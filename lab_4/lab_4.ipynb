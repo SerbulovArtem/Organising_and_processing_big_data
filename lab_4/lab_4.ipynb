{
  "cells": [
    {
      "cell_type": "markdown",
      "source": [
        "Import credentials"
      ],
      "metadata": {
        "id": "nMRA45cwRBIV"
      },
      "id": "nMRA45cwRBIV"
    },
    {
      "cell_type": "code",
      "source": [
        "import os\n",
        "import json\n",
        "\n",
        "path_private_key = '/content/drive/MyDrive/Intro_to_big_data/zippy-athlete-416011-b9662b3c6922.json'\n",
        "\n",
        "with open(path_private_key, 'r') as json_file:\n",
        "    data = json.load(json_file)\n",
        "\n",
        "for key, value in data.items():\n",
        "    os.environ[key] = str(value)"
      ],
      "metadata": {
        "id": "ylAt5zceRAtn"
      },
      "id": "ylAt5zceRAtn",
      "execution_count": null,
      "outputs": []
    },
    {
      "cell_type": "code",
      "source": [
        "from google.oauth2 import service_account\n",
        "\n",
        "SERVICE_ACCOUNT_KEY_FILE = path_private_key\n",
        "\n",
        "credentials = service_account.Credentials.from_service_account_file(SERVICE_ACCOUNT_KEY_FILE)"
      ],
      "metadata": {
        "id": "Hhe-v_iIaAS9"
      },
      "id": "Hhe-v_iIaAS9",
      "execution_count": null,
      "outputs": []
    },
    {
      "cell_type": "markdown",
      "source": [
        "Add rows to the existing table"
      ],
      "metadata": {
        "id": "qibcIy9YVpAB"
      },
      "id": "qibcIy9YVpAB"
    },
    {
      "cell_type": "code",
      "execution_count": null,
      "id": "gothic-division",
      "metadata": {
        "colab": {
          "base_uri": "https://localhost:8080/"
        },
        "id": "gothic-division",
        "outputId": "5f1be55f-dbab-40ca-e850-eea87446f5a3"
      },
      "outputs": [
        {
          "output_type": "stream",
          "name": "stdout",
          "text": [
            "Rows added successfully.\n"
          ]
        }
      ],
      "source": [
        "from google.cloud import bigquery\n",
        "\n",
        "project_name = os.environ['project_id']\n",
        "dataset_name = \"lab_3\"\n",
        "table_name = \"task_1_empty_table\"\n",
        "client = bigquery.Client(credentials=credentials, project=project_name)\n",
        "\n",
        "# Задаємо SQL-запит для додавання даних\n",
        "sql_query = f\"\"\"\n",
        "INSERT INTO `{project_name}.{dataset_name}.{table_name}` (product_name, price)\n",
        "VALUES ('bread', 0.75),\n",
        "       ('milk', 0.25);\n",
        "\"\"\"\n",
        "\n",
        "# Запускаємо SQL-запит\n",
        "query_job = client.query(sql_query)\n",
        "\n",
        "# Очікуємо завершення запиту\n",
        "query_job.result()\n",
        "\n",
        "# Перевіряємо статус запиту\n",
        "if query_job.state == 'DONE':\n",
        "    print(\"Rows added successfully.\")\n",
        "else:\n",
        "    print(\"Query execution failed:\", query_job.state)\n"
      ]
    },
    {
      "cell_type": "markdown",
      "source": [
        "Update or add to the table"
      ],
      "metadata": {
        "id": "lcBF6OWRVrRe"
      },
      "id": "lcBF6OWRVrRe"
    },
    {
      "cell_type": "code",
      "execution_count": null,
      "id": "suffering-relief",
      "metadata": {
        "colab": {
          "base_uri": "https://localhost:8080/"
        },
        "id": "suffering-relief",
        "outputId": "53aaa0dd-af67-4fce-82b7-7decdb97a7cd"
      },
      "outputs": [
        {
          "output_type": "stream",
          "name": "stdout",
          "text": [
            "Rows inserted successfully.\n"
          ]
        }
      ],
      "source": [
        "from google.cloud import bigquery\n",
        "import pandas as pd\n",
        "import numpy as np\n",
        "\n",
        "\n",
        "project_name = os.environ['project_id']\n",
        "datase_name = \"lab_3\"\n",
        "table_name = \"task_1_empty_table\"\n",
        "\n",
        "client = bigquery.Client(credentials=credentials, project=project_name)\n",
        "\n",
        "table_id = f\"{project_name}.{datase_name}.{table_name}\"\n",
        "\n",
        "schema = [\n",
        "    bigquery.SchemaField(\"product_name\", \"STRING\"),\n",
        "    bigquery.SchemaField(\"price\", \"FLOAT\"),\n",
        "]\n",
        "\n",
        "query = f\"SELECT * FROM `{table_id}`\"\n",
        "query_job = client.query(query)\n",
        "rows = query_job.result()\n",
        "\n",
        "rows_to_insert = []\n",
        "for row in rows:\n",
        "    rows_to_insert.append(row)\n",
        "\n",
        "errors = client.insert_rows(table_id, rows_to_insert, selected_fields=schema)\n",
        "if errors:\n",
        "    print(\"Encountered errors while inserting rows:\", errors)\n",
        "else:\n",
        "    print(\"Rows inserted successfully.\")\n"
      ]
    },
    {
      "cell_type": "code",
      "source": [
        "from google.colab import drive\n",
        "drive.mount('/content/drive')"
      ],
      "metadata": {
        "colab": {
          "base_uri": "https://localhost:8080/"
        },
        "id": "cIKbofPxWZuX",
        "outputId": "e9a2914d-861c-4677-f3fe-2f04b9512611"
      },
      "id": "cIKbofPxWZuX",
      "execution_count": null,
      "outputs": [
        {
          "output_type": "stream",
          "name": "stdout",
          "text": [
            "Drive already mounted at /content/drive; to attempt to forcibly remount, call drive.mount(\"/content/drive\", force_remount=True).\n"
          ]
        }
      ]
    }
  ],
  "metadata": {
    "kernelspec": {
      "display_name": "Python 3",
      "language": "python",
      "name": "python3"
    },
    "language_info": {
      "codemirror_mode": {
        "name": "ipython",
        "version": 3
      },
      "file_extension": ".py",
      "mimetype": "text/x-python",
      "name": "python",
      "nbconvert_exporter": "python",
      "pygments_lexer": "ipython3",
      "version": "3.8.8"
    },
    "colab": {
      "provenance": []
    }
  },
  "nbformat": 4,
  "nbformat_minor": 5
}