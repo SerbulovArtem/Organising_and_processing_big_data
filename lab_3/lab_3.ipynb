{
  "cells": [
    {
      "cell_type": "markdown",
      "source": [
        "Import credentials"
      ],
      "metadata": {
        "id": "nMRA45cwRBIV"
      },
      "id": "nMRA45cwRBIV"
    },
    {
      "cell_type": "code",
      "source": [
        "import os\n",
        "import json\n",
        "\n",
        "path_private_key = '/content/drive/MyDrive/Intro_to_big_data/zippy-athlete-416011-b9662b3c6922.json'\n",
        "\n",
        "with open(path_private_key, 'r') as json_file:\n",
        "    data = json.load(json_file)\n",
        "\n",
        "for key, value in data.items():\n",
        "    os.environ[key] = str(value)"
      ],
      "metadata": {
        "id": "ylAt5zceRAtn"
      },
      "id": "ylAt5zceRAtn",
      "execution_count": 41,
      "outputs": []
    },
    {
      "cell_type": "code",
      "source": [
        "from google.oauth2 import service_account\n",
        "\n",
        "SERVICE_ACCOUNT_KEY_FILE = path_private_key\n",
        "\n",
        "credentials = service_account.Credentials.from_service_account_file(SERVICE_ACCOUNT_KEY_FILE)"
      ],
      "metadata": {
        "id": "Hhe-v_iIaAS9"
      },
      "id": "Hhe-v_iIaAS9",
      "execution_count": 43,
      "outputs": []
    },
    {
      "cell_type": "markdown",
      "source": [
        "Empty table"
      ],
      "metadata": {
        "id": "qibcIy9YVpAB"
      },
      "id": "qibcIy9YVpAB"
    },
    {
      "cell_type": "code",
      "execution_count": 44,
      "id": "gothic-division",
      "metadata": {
        "colab": {
          "base_uri": "https://localhost:8080/"
        },
        "id": "gothic-division",
        "outputId": "d1b936e6-fe1d-420e-adab-10f2f05db9e8"
      },
      "outputs": [
        {
          "output_type": "stream",
          "name": "stdout",
          "text": [
            "Created table zippy-athlete-416011.lab_3.task_1_empty_table\n"
          ]
        }
      ],
      "source": [
        "from google.cloud import bigquery\n",
        "\n",
        "project_name = os.environ['project_id']\n",
        "client = bigquery.Client(credentials=credentials, project=project_name)\n",
        "dataset = client.dataset(\"lab_3\")\n",
        "table_ref = dataset.table(\"task_1_empty_table\")\n",
        "\n",
        "schema = [\n",
        "    bigquery.SchemaField(\"product_name\", \"STRING\", mode=\"REQUIRED\"),\n",
        "    bigquery.SchemaField(\"price\", \"FLOAT\", mode=\"NULLABLE\"),\n",
        "]\n",
        "\n",
        "table = bigquery.Table(table_ref, schema=schema)\n",
        "table = client.create_table(table)\n",
        "print(\n",
        "    \"Created table {}.{}.{}\".format(table.project, table.dataset_id, table.table_id)\n",
        ")"
      ]
    },
    {
      "cell_type": "markdown",
      "source": [
        "CSV to BigQuery table"
      ],
      "metadata": {
        "id": "lcBF6OWRVrRe"
      },
      "id": "lcBF6OWRVrRe"
    },
    {
      "cell_type": "code",
      "execution_count": 45,
      "id": "suffering-relief",
      "metadata": {
        "colab": {
          "base_uri": "https://localhost:8080/"
        },
        "id": "suffering-relief",
        "outputId": "c02fc92b-4178-4f19-afe2-0a9fd0447d2a"
      },
      "outputs": [
        {
          "output_type": "stream",
          "name": "stdout",
          "text": [
            "Loaded 4001 rows and 9 columns to zippy-athlete-416011.lab_3.task_1_from_pandas\n"
          ]
        }
      ],
      "source": [
        "from google.cloud import bigquery\n",
        "import pandas as pd\n",
        "import numpy as np\n",
        "\n",
        "\n",
        "project_name = os.environ['project_id']\n",
        "datase_name = \"lab_3\"\n",
        "table_name = \"task_1_from_pandas\"\n",
        "\n",
        "client = bigquery.Client(credentials=credentials, project=project_name)\n",
        "\n",
        "table_id = f\"{project_name}.{datase_name}.{table_name}\"\n",
        "\n",
        "df = pd.read_csv(r\"/content/drive/MyDrive/Intro_to_big_data/apple_quality.csv\")\n",
        "\n",
        "pandas_to_bigquery_type_mapping = {\n",
        "    'int64': 'INTEGER',\n",
        "    'float64': 'FLOAT',\n",
        "    'object': 'STRING',\n",
        "}\n",
        "\n",
        "schema = [\n",
        "    bigquery.SchemaField(column_name, pandas_to_bigquery_type_mapping[str(df.dtypes[column_name])], mode=\"NULLABLE\")\n",
        "    for column_name in df.columns\n",
        "]\n",
        "\n",
        "job_config = bigquery.LoadJobConfig(\n",
        "    schema=schema,\n",
        "    write_disposition=\"WRITE_TRUNCATE\"\n",
        ")\n",
        "\n",
        "\n",
        "job = client.load_table_from_dataframe(\n",
        "    df, table_id, job_config=job_config\n",
        ")\n",
        "job.result()\n",
        "\n",
        "table = client.get_table(table_id)\n",
        "print(\n",
        "    \"Loaded {} rows and {} columns to {}\".format(\n",
        "        table.num_rows, len(table.schema), table_id\n",
        "    )\n",
        ")"
      ]
    },
    {
      "cell_type": "code",
      "source": [
        "from google.colab import drive\n",
        "drive.mount('/content/drive')"
      ],
      "metadata": {
        "colab": {
          "base_uri": "https://localhost:8080/"
        },
        "id": "cIKbofPxWZuX",
        "outputId": "4a5807f8-6a24-46bb-b3d6-4f17c3019d9b"
      },
      "id": "cIKbofPxWZuX",
      "execution_count": null,
      "outputs": [
        {
          "output_type": "stream",
          "name": "stdout",
          "text": [
            "Mounted at /content/drive\n"
          ]
        }
      ]
    }
  ],
  "metadata": {
    "kernelspec": {
      "display_name": "Python 3",
      "language": "python",
      "name": "python3"
    },
    "language_info": {
      "codemirror_mode": {
        "name": "ipython",
        "version": 3
      },
      "file_extension": ".py",
      "mimetype": "text/x-python",
      "name": "python",
      "nbconvert_exporter": "python",
      "pygments_lexer": "ipython3",
      "version": "3.8.8"
    },
    "colab": {
      "provenance": []
    }
  },
  "nbformat": 4,
  "nbformat_minor": 5
}